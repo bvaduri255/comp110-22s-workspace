{
 "cells": [
  {
   "cell_type": "markdown",
   "metadata": {},
   "source": [
    "# Analysis for Continuous Improvement\n",
    "\n",
    "Author Name: Bhargav Vaduri\n",
    "\n",
    "9-digit PID: 730489799\n",
    "\n",
    "Continuous Improvement embraces a belief there is _always room to make things better_. It is a mindset and process we value and practice in this course. In this assignment, you are able to practice continuous improvement and contribute to the design ideas of the course.\n",
    "\n",
    "## Brainstorming Ideas\n",
    "\n",
    "Reflect on your personal experiences and observations in COMP110 and **brainstorm modifications to the course that _create value_ beyond its current design**. When brainstorming, try not to be critical of the ideas you come up with regarding scale, stakeholders impacted, or for any other reasons. In the markdown cell below, brainstorm 3 to 5 ideas you think would create value for you.\n",
    "\n",
    "Each brainstormed idea should state a. the suggested change or addition, b. what the expected value created, and c. which specific stakeholders would benefit.  If helpful, expand on the following template \"The course should (state idea here) because it will (state value created here) for (insert stakeholders here).\"\n",
    "\n",
    "Example A: \"The course should use only examples from psychology experiments because it will be more relevant for students who are psychology majors.\"\n",
    "\n",
    "Example B: \"The course should not have post-lesson questions because they are not useful for most students in the class.\""
   ]
  },
  {
   "cell_type": "markdown",
   "metadata": {},
   "source": [
    "### Part 1. Creative Ideation\n",
    "\n",
    "1. The course should use more real-world examples because the pure theory taught and tested in the videos and lessons can be difficult to grasp for students.\n",
    "2. The course should have more programming assignments because it will help develop students' algorithmic problem solving skills.\n",
    "3. Programming exercises should be updated to have more clarity since many students have to go to office hours many times.\n",
    "4. Post lesson questions should be reduced or removed since it tests the students short term knowledge rather than long term understanding.\n",
    "5. Quizzes should be more frequent but should cover less material between them so they can be graded faster and easier by instructional staff."
   ]
  },
  {
   "cell_type": "markdown",
   "metadata": {},
   "source": [
    "## Connecting with Available Data\n",
    "\n",
    "The data you have available for this analysis is limited to the anonymized course survey you and your peers filled out a few weeks ago. The data is found in the `survey.csv` file in this exercise directory. Each row represents an individual survey response. Each column has a description which can be found on the project write-up here: <https://22s.comp110.com/exercises/ex08.html>\n",
    "\n",
    "Review the list of available data and identify which one of your ideas _does not_, or is _least likely to_, have relevant data to support the analysis of your idea to create value. In the box below, identify which of your ideas lacks data and suggest how we might be able to collect this data in the future. One aspect of _continuous improvement_ is trying to avoid \"tunnel vision\" where possible improvements are not considered because there is no data available to analyze it. Identifying new data sources can unlock improvements!"
   ]
  },
  {
   "cell_type": "markdown",
   "metadata": {},
   "source": [
    "### Part 2. Identifying Missing Data\n",
    "\n",
    "1. Idea without sufficient data to analyze: Quizzes should be more frequent but should cover less material between them so they can be graded faster nad easier by instructional staff.\n",
    "\n",
    "2. Suggestion for how to collect data to support this idea in the future: Add a question to the survey about whether the quizzes' content feels overwhelming on a scale of 1 to 7."
   ]
  },
  {
   "cell_type": "markdown",
   "metadata": {},
   "source": [
    "## Choosing an Idea to Analyze\n",
    "\n",
    "Consider those of your ideas which _do_ seem likely to have relevant data to analyze. If none of your ideas do, spend a few minutes and brainstorm another idea or two with the added connection of data available on hand and add those ideas to your brainstormed ideas list.\n",
    "\n",
    "Select the one idea which you believe is _most valuable_ to analyze relative to the others and has data to support the analysis of. In the markdown cell for Part 3 below, identify the idea you are exploring and articulate why you believe it is most valuable (e.g. widest impact, biggest opportunity for improvement, simplest change for significant improvement, and so on)."
   ]
  },
  {
   "cell_type": "markdown",
   "metadata": {},
   "source": [
    "### Part 3. Choosing Your Analysis\n",
    "\n",
    "1. Idea to analyze with available data: The course should use more real-world examples because the pure theory taught and tested in the videos can be difficult to grasp for students.\n",
    "\n",
    "2. This idea is more valuable than the others brainstormed because: This idea is the most relevant to developing programming skills since applying these skills to projects is the end goal.\n"
   ]
  },
  {
   "cell_type": "markdown",
   "metadata": {},
   "source": [
    "## Your Analysis\n",
    "\n",
    "Before you begin analysis, a reminder that we do not expect the data to support everyone's ideas and you can complete this exercise for full credit even if the data does not clearly support your suggestion or even completely refutes it. What we are looking for is a logical attempt to explore the data using the techniques you have learned up until now in a way that _either_ supports, refutes, or does not have a clear result and then to reflect on your findings after the analysis.\n",
    "\n",
    "Using the utility functions you created for the previous exercise, you will continue with your analysis in the following part. Before you begin, refer to the rubric on the technical expectations of this section in the exercise write-up.\n",
    "\n",
    "In this section, you are expected to interleave code and markdown cells such that for each step of your analysis you are starting with an English description of what you are planning to do next in a markdown cell, followed by a Python cell that performs that step of the analysis."
   ]
  },
  {
   "cell_type": "markdown",
   "metadata": {},
   "source": [
    "### Part 4. Analysis\n",
    "\n",
    "We begin by changing some settings in the notebook to automatically reload changes to imported files."
   ]
  },
  {
   "cell_type": "code",
   "execution_count": 33,
   "metadata": {},
   "outputs": [],
   "source": [
    "%reload_ext autoreload\n",
    "%autoreload 2"
   ]
  },
  {
   "cell_type": "markdown",
   "metadata": {},
   "source": [
    "We continue by importing the helper functions from `data_utils`."
   ]
  },
  {
   "cell_type": "code",
   "execution_count": 34,
   "metadata": {},
   "outputs": [],
   "source": [
    "# TODO: You complete the code blocks from here forward!\n",
    "from data_utils import read_csv_rows, column_values, columnar, head, select, concat, count\n",
    "import matplotlib.pyplot as plt\n",
    "import numpy as np"
   ]
  },
  {
   "cell_type": "markdown",
   "metadata": {},
   "source": [
    "Next, ... (you take it from here and add additional code and markdown cells to read in the CSV file and process it as needed)"
   ]
  },
  {
   "cell_type": "code",
   "execution_count": 35,
   "metadata": {},
   "outputs": [
    {
     "name": "stdout",
     "output_type": "stream",
     "text": [
      "{'row': ['0', '1', '2', '3', '4'], 'year': ['22', '25', '25', '24', '25'], 'unc_status': ['Returning UNC Student', 'Returning UNC Student', 'Incoming First-year Student', 'Returning UNC Student', 'Incoming First-year Student'], 'comp_major': ['No', 'No', 'Yes - BA', 'Yes - BS', 'Yes - BA'], 'primary_major': ['Mathematics', 'Mathematics', 'Computer Science', 'Computer Science', 'Computer Science'], 'data_science': ['No', 'Yes', 'No', 'Maybe', 'No'], 'prereqs': ['MATH 233, MATH 347, MATH 381', 'MATH 130, MATH 231, STOR 155', 'MATH 130, MATH 152, MATH 210', 'MATH 231, MATH 232, STOR 155', 'MATH 130'], 'prior_exp': ['7-12 months', 'None to less than one month!', 'None to less than one month!', '2-6 months', 'None to less than one month!'], 'ap_principles': ['No', '', '', 'No', ''], 'ap_a': ['No', '', '', 'No', ''], 'other_comp': ['UNC', '', '', 'High school course (IB or other)', ''], 'prior_time': ['1 month or so', '', '', 'None to less than one month!', ''], 'languages': ['Python, R / Matlab / SAS', '', '', 'Python', ''], 'hours_online_social': ['3 to 5 hours', '0 to 2 hours', '3 to 5 hours', '3 to 5 hours', '0 to 2 hours'], 'hours_online_work': ['0 to 2 hours', '5 to 10 hours', '5 to 10 hours', '3 to 5 hours', '3 to 5 hours'], 'lesson_time': ['6', '4', '3', '5', '7'], 'sync_perf': ['2', '3', '3', '5', '3'], 'all_sync': ['2', '3', '4', '4', '3'], 'flipped_class': ['1', '1', '2', '3', '3'], 'no_hybrid': ['2', '2', '1', '3', '2'], 'own_notes': ['4', '6', '7', '6', '6'], 'own_examples': ['4', '4', '7', '5', '3'], 'oh_visits': ['0', '5', '2', '1', '5'], 'ls_effective': ['7', '5', '5', '6', '6'], 'lsqs_effective': ['3', '5', '6', '3', '6'], 'programming_effective': ['7', '5', '7', '5', '6'], 'qz_effective': ['5', '5', '7', '5', '6'], 'oh_effective': ['', '7', '4', '5', '7'], 'tutoring_effective': ['', '6', '', '4', '3'], 'pace': ['1', '6', '6', '4', '6'], 'difficulty': ['1', '6', '4', '4', '5'], 'understanding': ['7', '3', '6', '5', '5'], 'interesting': ['5', '4', '7', '6', '6'], 'valuable': ['6', '6', '7', '6', '6'], 'would_recommend': ['5', '4', '7', '6', '7']}\n"
     ]
    }
   ],
   "source": [
    "SURVEY_DATA_CSV_FILE_PATH: str = \"../../data/survey.csv\"\n",
    "all_data: list[dict[str, str]] = read_csv_rows(SURVEY_DATA_CSV_FILE_PATH)\n",
    "print(head(columnar(all_data), 5))"
   ]
  },
  {
   "cell_type": "markdown",
   "metadata": {},
   "source": [
    "We begin by analyzing the usefullness of the video lessons by taking the average of all the values provided in the survey as well as counting the occurences of each number."
   ]
  },
  {
   "cell_type": "code",
   "execution_count": 36,
   "metadata": {},
   "outputs": [],
   "source": [
    "def count_freqs(values: list[int]) -> dict[int, int]:\n",
    "    \"\"\"Creates a list of frequencies of values.\"\"\"\n",
    "    freqs: dict[int, int] = {}\n",
    "\n",
    "    for value in values:\n",
    "        if value not in freqs:\n",
    "            freqs[value] = 1\n",
    "        else:\n",
    "            freqs[value] += 1\n",
    "    \n",
    "    return freqs"
   ]
  },
  {
   "cell_type": "code",
   "execution_count": 37,
   "metadata": {},
   "outputs": [
    {
     "name": "stdout",
     "output_type": "stream",
     "text": [
      "The average usefulness of the video is lesson is 5.827419\n",
      "{7: 257, 5: 120, 6: 154, 4: 46, 1: 8, 3: 28, 2: 7}\n"
     ]
    },
    {
     "data": {
      "image/png": "[encoded data removed]",
      "text/plain": [
       "<Figure size 432x288 with 1 Axes>"
      ]
     },
     "metadata": {
      "needs_background": "light"
     },
     "output_type": "display_data"
    },
    {
     "name": "stdout",
     "output_type": "stream",
     "text": [
      "257 people strongly agree with the fact that the video lessons are useful.\n"
     ]
    }
   ],
   "source": [
    "\n",
    "video_lesson_column: list[str] = column_values(all_data, 'ls_effective')\n",
    "\n",
    "for i in range(len(video_lesson_column)):\n",
    "    video_lesson_column[i] = int(video_lesson_column[i])\n",
    "\n",
    "number_of_values: int = len(video_lesson_column)\n",
    "sum_of_values: int = sum(video_lesson_column)\n",
    "\n",
    "average: float = sum_of_values / number_of_values\n",
    "\n",
    "print(\"The average usefulness of the video is lesson is %f\" % average)\n",
    "\n",
    "video_lesson_freqs: dict[int ,int] = count_freqs(video_lesson_column)\n",
    "\n",
    "\n",
    "xvals: list[int] = list(video_lesson_freqs.keys())\n",
    "labels: list[str] = [str(val) for val in xvals]\n",
    "yvals: list[int] = list(video_lesson_freqs.values())\n",
    "print(video_lesson_freqs)\n",
    "plt.bar(xvals, yvals, align='center', alpha=0.5)\n",
    "plt.xticks(xvals, labels)\n",
    "plt.ylabel('Frequency')\n",
    "plt.title('Frequency of Video Lesson Usefulness')\n",
    "\n",
    "plt.show()\n",
    "\n",
    "seven_count: int = video_lesson_freqs[7]\n",
    "\n",
    "print(\"%d people strongly agree with the fact that the video lessons are useful.\" % seven_count)"
   ]
  },
  {
   "cell_type": "code",
   "execution_count": null,
   "metadata": {},
   "outputs": [],
   "source": []
  },
  {
   "cell_type": "markdown",
   "metadata": {},
   "source": [
    "## Conclusion\n",
    "\n",
    "In the following markdown cell, write a reflective conclusion given the analysis you performed and identify recommendations.\n",
    "\n",
    "If your analysis of the data supports your idea, state your recommendation for the change and summarize the data analysys results you found which support it. Additionally, describe any extensions or refinements to this idea which might be explored further. Finally, discuss the potential costs, trade-offs, or stakeholders who may be negatively impacted by this proposed change.\n",
    "\n",
    "If your analysis of the data is inconclusive, summarize why your data analysis results were inconclusive in the support of your idea. Additionally, describe what experimental idea implementation or additional data collection might help build more confidence in assessing your idea. Finally, discuss the potential costs, trade-offs, or stakeholders who may be negatively impacted by experimenting with your idea.\n",
    "\n",
    "Finally, if your analysis of the data does not support it, summarize your data analysis results and why it refutes your idea. Discuss the potential costs, trade-offs, or stakeholders who may be negatively impacted by this proposed change. If you disagree with the validity of the findings, describe why your idea still makes sense to implement and what alternative data would better support it. If you agree with the validity of the data analysis, describe what alternate ideas or extensions you would explore instead. "
   ]
  },
  {
   "cell_type": "markdown",
   "metadata": {},
   "source": [
    "### Part 5. Conclusion\n",
    "\n"
   ]
  },
  {
   "cell_type": "markdown",
   "metadata": {},
   "source": [
    "The analysis of that data does not support my conclusion that video lessons heavy emphasis on theory could take away from the usefulness of programming as a tool in the real world. Given the average effectiveness was 5.8, which is very high given the scale of seven it can be seen that a majority of the students find the lessons useful. Moreover, the distrbution of effectiveness values is very left skewed which also reinforces this point. I could combine this data with the lesson data to get a combined metric using geometric mean to assess the combined effectiveness of the two types of lessons. The data may refute my conclusion since most people aren't looking for applications as this is an introductory class."
   ]
  },
  {
   "cell_type": "markdown",
   "metadata": {},
   "source": []
  }
 ],
 "metadata": {
  "interpreter": {
   "hash": "aee8b7b246df8f9039afb4144a1f6fd8d2ca17a180786b69acc140d282b71a49"
  },
  "kernelspec": {
   "display_name": "Python 3.10.2 64-bit",
   "language": "python",
   "name": "python3"
  },
  "language_info": {
   "codemirror_mode": {
    "name": "ipython",
    "version": 3
   },
   "file_extension": ".py",
   "mimetype": "text/x-python",
   "name": "python",
   "nbconvert_exporter": "python",
   "pygments_lexer": "ipython3",
   "version": "3.10.1"
  },
  "orig_nbformat": 4
 },
 "nbformat": 4,
 "nbformat_minor": 2
}
